{
 "cells": [
  {
   "cell_type": "markdown",
   "metadata": {},
   "source": [
    "# Create Artistic Hallucination"
   ]
  },
  {
   "cell_type": "code",
   "execution_count": 13,
   "metadata": {
    "collapsed": true
   },
   "outputs": [],
   "source": [
    "import numpy as np\n",
    "from scipy.misc import imsave\n",
    "from scipy.optimize import fmin_l_bfgs_b\n",
    "import time\n",
    "\n",
    "from keras.preprocessing.image import load_img, img_to_array\n",
    "from keras.applications import vgg16\n",
    "from keras.layers import Input\n",
    "from keras import backend as K\n",
    "\n",
    "K.set_image_dim_ordering('tf')\n"
   ]
  },
  {
   "cell_type": "code",
   "execution_count": null,
   "metadata": {
    "collapsed": true
   },
   "outputs": [],
   "source": [
    "# base image path and result prefix\n",
    "### Change the path to your own image\n",
    "base_image_path = '/Users/kuntalg/Desktop/deepdream-pic/kun.jpg'\n",
    "result_prefix = '/Users/kuntalg/Desktop/deepdream-pic/kg'\n",
    "\n",
    "# dimensions of the generated image\n",
    "img_width, img_height = 1200, 750"
   ]
  },
  {
   "cell_type": "code",
   "execution_count": 15,
   "metadata": {
    "collapsed": true
   },
   "outputs": [],
   "source": [
    "# some settings we found interesting\n",
    "settings_preset = {\n",
    "    'dreamy': {\n",
    "        'features': {\n",
    "            'block5_conv1': 0.05,\n",
    "            'block5_conv2': 0.02\n",
    "        },\n",
    "        'continuity': 0.1,\n",
    "        'dream_l2': 0.02,\n",
    "        'jitter': 0\n",
    "    }\n",
    "}\n",
    "\n",
    "\n",
    "# settings to be used\n",
    "settings = settings_preset['dreamy']\n"
   ]
  },
  {
   "cell_type": "code",
   "execution_count": 16,
   "metadata": {
    "collapsed": true
   },
   "outputs": [],
   "source": [
    "\"\"\" Utility functions \"\"\"\n",
    "# util function to open, resize and format images to appropriate tensors\n",
    "def preprocess_image(image_path):\n",
    "    img = load_img(image_path, target_size=(img_height, img_width))\n",
    "    img = img_to_array(img)\n",
    "    img = np.expand_dims(img, axis=0)\n",
    "    img = vgg16.preprocess_input(img)\n",
    "    return img\n",
    "\n",
    "# util function to convert a tensors into a valid image\n",
    "def deprocess_image(x):\n",
    "    x = x.reshape((img_height, img_width, 3)) # using 'tf' backend\n",
    "\n",
    "    # remove zero-center by mean pixel\n",
    "    x[:, :, 0] += 103.939\n",
    "    x[:, :, 1] += 116.779\n",
    "    x[:, :, 2] += 123.680\n",
    "\n",
    "    # convert BGR to RGB\n",
    "    x = x[:, :, ::-1]\n",
    "    x = np.clip(x, 0, 255).astype('uint8')\n",
    "\n",
    "    return x"
   ]
  },
  {
   "cell_type": "code",
   "execution_count": 17,
   "metadata": {
    "collapsed": true
   },
   "outputs": [],
   "source": [
    "# continuity loss: to give the image local coherence and avoid messy blurs\n",
    "# looks like a variant of the total variation loss; this paper discusses the use\n",
    "# of a total variation prior in the context of synthesizing images with convnets:\n",
    "# http://www.robots.ox.ac.uk/~vedaldi/assets/pubs/mahendran15understanding.pdf\n",
    "def continuity_loss(x):\n",
    "    assert K.ndim(x) == 4\n",
    "    a = K.square(x[:, :img_height-1, :img_width-1, :] -\n",
    "                 x[:, 1:, :img_width-1, :])\n",
    "    b = K.square(x[:, :img_height-1, :img_width-1, :] -\n",
    "                 x[:, :img_height-1, 1:, :])\n",
    "\n",
    "    # (a+b) is the squared spatial gradient, 1.25 is a hyperparameter that should\n",
    "    # be >1.0 as discussed in the aforementioned paper\n",
    "    return K.sum(K.pow(a+b, 1.25))\n",
    "\n",
    "# util function to evaluate loss and gradient\n",
    "def eval_loss_and_grads(x):\n",
    "    x = x.reshape((1,) + img_size)\n",
    "    outs = f_outputs([x])\n",
    "    loss_value = outs[0]\n",
    "    if len(outs[1:]) == 1:\n",
    "        grad_values = outs[1].flatten().astype('float64')\n",
    "    else:\n",
    "        grad_values = np.array(outs[1:]).flatten().astype('float64')\n",
    "    return loss_value, grad_values\n"
   ]
  },
  {
   "cell_type": "code",
   "execution_count": 18,
   "metadata": {},
   "outputs": [
    {
     "name": "stdout",
     "output_type": "stream",
     "text": [
      "Model loaded.\n"
     ]
    }
   ],
   "source": [
    "img_size = (img_height, img_width, 3)\n",
    "# this will contain the generated image\n",
    "dream = Input(batch_shape=(1,)+img_size)\n",
    "\n",
    "# load the vgg16 model with pretrained weights\n",
    "model = vgg16.VGG16(input_tensor=dream, weights='imagenet', include_top=False)\n",
    "print('Model loaded.')\n",
    "\n",
    "# get the symbolic output of each \"key\" layer\n",
    "layer_dict = dict([(layer.name, layer) for layer in model.layers])\n"
   ]
  },
  {
   "cell_type": "code",
   "execution_count": 19,
   "metadata": {
    "collapsed": true
   },
   "outputs": [],
   "source": [
    "# define the loss\n",
    "loss = K.variable(0.)\n",
    "\n",
    "for layer_name in settings['features']:\n",
    "    # add the L2 norm of the features of a layer to the loss\n",
    "    assert layer_name in layer_dict.keys(), 'Layer ' + layer_name + ' not found in model.'\n",
    "    coeff = settings['features'][layer_name]\n",
    "    x = layer_dict[layer_name].output\n",
    "    shape = layer_dict[layer_name].output_shape\n",
    "    # avoid border artifacts by only involving non-border pixels in the loss\n",
    "    loss -= coeff * K.sum(K.square(x[:, 2: shape[1]-2, 2: shape[2]-2, :])) / np.prod(shape[1:])\n",
    "\n",
    "# add continuity loss (to give the image local coherence and avoid messy blurs)\n",
    "loss += settings['continuity'] * continuity_loss(dream) / np.prod(img_size)\n",
    "\n",
    "# add image L2 norm to loss (prevents pixels from taking very high values)\n",
    "loss += settings['dream_l2'] * K.sum(K.square(dream)) / np.prod(img_size)\n",
    "\n",
    "### modify the loss to achieve new effects\n",
    "\n",
    "# compute the gradients of the dream wrt the loss\n",
    "grads = K.gradients(loss, dream)\n",
    "\n",
    "outputs = [loss]\n",
    "if isinstance(grads, (list, tuple)):\n",
    "    outputs += grads\n",
    "else:\n",
    "    outputs.append(grads)\n",
    "\n",
    "f_outputs = K.function([dream], outputs)"
   ]
  },
  {
   "cell_type": "code",
   "execution_count": 20,
   "metadata": {
    "collapsed": true
   },
   "outputs": [],
   "source": [
    "# we need to evaluate our loss and our gradients in one pass, but scipy.optimize\n",
    "# requires separate functions for loss and gradients, and computing them separately\n",
    "# would be inefficient. To solve this we create our own Evaluator:\n",
    "class Evaluator(object):\n",
    "    def __init__(self):\n",
    "        self.loss_value = None\n",
    "        self.grad_values = None\n",
    "\n",
    "    def loss(self, x):\n",
    "        assert self.loss_value is None\n",
    "        loss_value, grad_values = eval_loss_and_grads(x)\n",
    "        self.loss_value = loss_value\n",
    "        self.grad_values = grad_values\n",
    "        return self.loss_value\n",
    "\n",
    "    def grads(self, x):\n",
    "        assert self.loss_value is not None\n",
    "        grad_values = np.copy(self.grad_values)\n",
    "        self.loss_value = None\n",
    "        self.grad_values = None\n",
    "        return grad_values\n",
    "\n",
    "evaluator = Evaluator()"
   ]
  },
  {
   "cell_type": "code",
   "execution_count": null,
   "metadata": {},
   "outputs": [],
   "source": [
    "# run L-BFGS optimizer over the pixels of the generated image,\n",
    "# in order to minimize the loss\n",
    "x = preprocess_image(base_image_path)\n",
    "\n",
    "for i in range(20):\n",
    "    print('Start of iteration', i)\n",
    "    start_time = time.time()\n",
    "\n",
    "    # add a random jitter to the initial image; this will be reverted at decoding time\n",
    "    random_jitter = (settings['jitter']*2) * (np.random.random(img_size)-0.5)\n",
    "    x += random_jitter\n",
    "\n",
    "    # run L-BFGS for 7 steps\n",
    "    x, min_val, info = fmin_l_bfgs_b(evaluator.loss, x.flatten(),\n",
    "                                     fprime=evaluator.grads, maxfun=7)\n",
    "\n",
    "    print('Current loss value:', min_val)\n",
    "\n",
    "    # decode the dream and save it\n",
    "    x = x.reshape(img_size)\n",
    "    x -= random_jitter\n",
    "    img = deprocess_image(np.copy(x))\n",
    "    fn = result_prefix + '_at_iteration_%d.png' % i\n",
    "    imsave(fn, img)\n",
    "\n",
    "    end_time = time.time()\n",
    "    print('Image saved as', fn)\n",
    "    print('Iteration %d completed in %ds' % (i, end_time-start_time))"
   ]
  },
  {
   "cell_type": "code",
   "execution_count": null,
   "metadata": {
    "collapsed": true
   },
   "outputs": [],
   "source": []
  }
 ],
 "metadata": {
  "kernelspec": {
   "display_name": "Python 2",
   "language": "python",
   "name": "python2"
  },
  "language_info": {
   "codemirror_mode": {
    "name": "ipython",
    "version": 2
   },
   "file_extension": ".py",
   "mimetype": "text/x-python",
   "name": "python",
   "nbconvert_exporter": "python",
   "pygments_lexer": "ipython2",
   "version": "2.7.13"
  }
 },
 "nbformat": 4,
 "nbformat_minor": 2
}
